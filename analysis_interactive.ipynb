{
 "cells": [
  {
   "cell_type": "code",
   "execution_count": 21,
   "metadata": {},
   "outputs": [],
   "source": [
    "import pandas as pd\n",
    "from nltk.corpus import stopwords\n",
    "from nltk.stem import PorterStemmer\n",
    "import nltk\n",
    "import string\n",
    "import heapq"
   ]
  },
  {
   "cell_type": "code",
   "execution_count": 2,
   "metadata": {},
   "outputs": [],
   "source": [
    "def processWords(raw, removePunc=False, addStopwords=False, stem=False):\n",
    "    raw = str(raw).lower()\n",
    "    if removePunc:\n",
    "        nopunc = [c for c in raw if c not in string.punctuation]\n",
    "        raw = ''.join(nopunc)\n",
    "    stopwordsList = []\n",
    "    stopwordsList_en = set(stopwords.words('english'))\n",
    "    stopwordsList_fr = set(stopwords.words('french'))\n",
    "    stopwordsList.extend(stopwordsList_en)\n",
    "    stopwordsList.extend(stopwordsList_fr)\n",
    "    if addStopwords:\n",
    "        stopwordsList.extend(additionalStopwords())\n",
    "    nostop = [w for w in raw.split() if w.lower() not in stopwordsList]\n",
    "    if stem:\n",
    "        stemmer = PorterStemmer()\n",
    "        return ' '.join([stemmer.stem(t) for t in nostop])\n",
    "    else:\n",
    "        return ' '.join(nostop)\n",
    "\n",
    "def additionalStopwords():\n",
    "    stopwordsFile = open('additional_stopwordsList.txt')\n",
    "    return [w.lower().replace('\\n', '') for w in stopwordsFile.readlines()]"
   ]
  },
  {
   "cell_type": "code",
   "execution_count": 3,
   "metadata": {},
   "outputs": [],
   "source": [
    "def wordWeight(s):\n",
    "    fdist = nltk.FreqDist(s.split())\n",
    "    fdict = dict(fdist)\n",
    "    wdict = {}\n",
    "    for key in fdict.keys():\n",
    "        wdict[key] = fdict[key]/max(fdict.values())\n",
    "    return wdict"
   ]
  },
  {
   "cell_type": "code",
   "execution_count": 14,
   "metadata": {},
   "outputs": [],
   "source": [
    "def sentenceScore(sentences:list, wordWeightDict:dict):\n",
    "    sentScore = {}\n",
    "    for sentence in sentences:\n",
    "        for word in nltk.word_tokenize(sentence):\n",
    "            if word in wordWeightDict.keys():\n",
    "                if sentence not in sentScore.keys():\n",
    "                    sentScore[sentence] = wordWeightDict[word]\n",
    "                else:\n",
    "                    sentScore[sentence] += wordWeightDict[word]\n",
    "    return sentScore"
   ]
  },
  {
   "cell_type": "code",
   "execution_count": 5,
   "metadata": {},
   "outputs": [],
   "source": [
    "df = pd.read_json('data.json')"
   ]
  },
  {
   "cell_type": "code",
   "execution_count": 6,
   "metadata": {},
   "outputs": [],
   "source": [
    "df.dropna(subset = ['descr'], inplace=True)"
   ]
  },
  {
   "cell_type": "code",
   "execution_count": 7,
   "metadata": {},
   "outputs": [],
   "source": [
    "df['descr_no_punc'] = df['descr'].apply(lambda x: processWords(x, removePunc=True))\n",
    "df['descr_sent_token'] = df['descr'].apply(lambda x: nltk.sent_tokenize(processWords(x)))\n",
    "df['descr_word_wt'] = df['descr_no_punc'].apply(lambda x: wordWeight(x))"
   ]
  },
  {
   "cell_type": "code",
   "execution_count": 18,
   "metadata": {},
   "outputs": [],
   "source": [
    "df['descr_sent_score'] = df.apply(lambda df: sentenceScore(df['descr_sent_token'],df['descr_word_wt']),axis=1)"
   ]
  },
  {
   "cell_type": "code",
   "execution_count": 33,
   "metadata": {},
   "outputs": [],
   "source": [
    "df['descr_summ']= df['descr_sent_score'].apply(lambda d:heapq.nlargest(3,d,key=d.get))"
   ]
  },
  {
   "cell_type": "code",
   "execution_count": 34,
   "metadata": {},
   "outputs": [
    {
     "data": {
      "text/plain": [
       "['role dimensions: role direct in-direct impact following financial measures: regulatory capital ; economic regulatory capital; counterparty credit risk exposure measurements; qualifications knowledge skills: must-have skills: 3+ years related work experience financial institution strong knowledge financial products, specifically possessing knowledge derivatives ( otc) well sft strong experience working basel iii osfi car guideline strong experience ccr, ccr capital ( cem, sa-ccr) must experience bcar advanced knowledge excel, vba, sql, database concepts advanced python programming experience participation mid-scale/large development projects, hands-on experience conducting testing strong capability writing business requirement test plans strong capability creating mock-up data required test pre-specified cases nice-to-have skills: broad understanding risk management methodologies experience using work tracking systems (e.g.',\n",
       " 'cr eate test plan including test scenarios sample data support testing scenarios perform testing across entire testing cycle ensure business requirements met identify issues propose solutions analyze test result communicate result senior management document procedures, control processes, policies relevant internal controls continuously improve understanding subject matter relating counterparty credit risk monitoring basel iii rwa / capital calculations cross-functional relationships technology & operations; corporate risk management directors managers; capital markets trading lines business credit portfolio managers account managers external system software vendors model validation market risk internal teams infrastructure, process governance, etc.',\n",
       " 'identify opportunities for, lead enhancement capital methodologies quantifying counterparty credit risk capital across trading products accuracy reliability capital consequent business decisions reliant upon data enhanced.']"
      ]
     },
     "execution_count": 34,
     "metadata": {},
     "output_type": "execute_result"
    }
   ],
   "source": [
    "df['descr_summ'][14]"
   ]
  },
  {
   "cell_type": "code",
   "execution_count": 19,
   "metadata": {},
   "outputs": [
    {
     "data": {
      "text/plain": [
       "dict"
      ]
     },
     "execution_count": 19,
     "metadata": {},
     "output_type": "execute_result"
    }
   ],
   "source": [
    "type(df['descr_sent_score'][1])"
   ]
  },
  {
   "cell_type": "code",
   "execution_count": 26,
   "metadata": {},
   "outputs": [],
   "source": [
    "summ = heapq.nlargest(5,df['descr_sent_score'][3],key=df['descr_sent_score'][3].get)"
   ]
  },
  {
   "cell_type": "code",
   "execution_count": 28,
   "metadata": {},
   "outputs": [
    {
     "data": {
      "text/plain": [
       "list"
      ]
     },
     "execution_count": 28,
     "metadata": {},
     "output_type": "execute_result"
    }
   ],
   "source": [
    "type(summ)"
   ]
  },
  {
   "cell_type": "code",
   "execution_count": 29,
   "metadata": {},
   "outputs": [
    {
     "name": "stdout",
     "output_type": "stream",
     "text": [
      "financial derivatives pricing, var, counterparty credit risk, drc/irc, cva/xva, frtb ccar models) based industry best practices;be able learn work quantitative analytical areas credit modeling, forecasting stress testing, customer behavior modeling, new innovations machine learning artificial intelligence;carry various complex financial analyses including derivatives valuation independently;support contribute variety market risk areas projects clients delivering high quality value-added work timely base;work clients independently demonstrating capabilities accountabilities subject matter expertcontribute growth continued business practices within financial engineering analytics (fea) groupemploy structured approach project management ensure complete client satisfaction project profitability external posting qualifications solid academic background phd master degree mathematical finance, financial engineering relevant post graduate degree; frm, prm, cfa asset;solid knowledge skills modeling practices capital markets market risk, including derivatives pricing, var, svar, irc, drc, cva/xva, frtb counterparty credit riskminimum 1 year relevant experience spent within capital markets and/or market risk, model development model validation team major financial institution;strong commitment professional client service excellence;ability program pertinent languages, excel, c++, vba, python matlab;knowledge fincad bloomberg/ reuters, asset;strong team player well independent contributor capacity work pressure;demonstrated superior verbal written communication skills communicate members team internal external clients;experienced project problem diagnosis, documentation solution developmentcanadian travel required occasional international travel.\n",
      "member financial advisory team, help financial services industry (fsi) clients face quantitative issues informed confidence.\n",
      "job type: permanent primary location: toronto, ontario, canada available locations: toronto external posting description would like develop career exponentially expanding analytics data application & modeling (adam) practice?\n",
      "endless opportunities every turn, culture built support drive people best be, deloitte one firm learn, grow, create, lead.\n",
      "senior associate, will: develop/validate/review capital markets market risk including structural market risk interest-rate-risk models (e.g.\n"
     ]
    }
   ],
   "source": [
    "for s in summ:\n",
    "    print(s)"
   ]
  },
  {
   "cell_type": "code",
   "execution_count": null,
   "metadata": {},
   "outputs": [],
   "source": []
  }
 ],
 "metadata": {
  "kernelspec": {
   "display_name": "Python 3",
   "language": "python",
   "name": "python3"
  },
  "language_info": {
   "codemirror_mode": {
    "name": "ipython",
    "version": 3
   },
   "file_extension": ".py",
   "mimetype": "text/x-python",
   "name": "python",
   "nbconvert_exporter": "python",
   "pygments_lexer": "ipython3",
   "version": "3.7.3"
  }
 },
 "nbformat": 4,
 "nbformat_minor": 2
}
